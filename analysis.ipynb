{
 "cells": [
  {
   "cell_type": "code",
   "execution_count": 1,
   "metadata": {},
   "outputs": [],
   "source": [
    "import json"
   ]
  },
  {
   "cell_type": "code",
   "execution_count": 2,
   "metadata": {},
   "outputs": [],
   "source": [
    "with open(\"SARA_CAPITALIZACAO.json\") as f:\n",
    "    sara = json.loads(f.read())"
   ]
  },
  {
   "cell_type": "code",
   "execution_count": 3,
   "metadata": {},
   "outputs": [
    {
     "data": {
      "text/plain": [
       "dict_keys(['workspace', 'answers'])"
      ]
     },
     "execution_count": 3,
     "metadata": {},
     "output_type": "execute_result"
    }
   ],
   "source": [
    "sara.keys()"
   ]
  },
  {
   "cell_type": "code",
   "execution_count": 10,
   "metadata": {},
   "outputs": [
    {
     "data": {
      "text/plain": [
       "2"
      ]
     },
     "execution_count": 10,
     "metadata": {},
     "output_type": "execute_result"
    }
   ],
   "source": [
    "len(sara.items())"
   ]
  },
  {
   "cell_type": "code",
   "execution_count": 33,
   "metadata": {},
   "outputs": [],
   "source": [
    "def compact_print(d:dict, indent=''):\n",
    "    keys = []\n",
    "    if not indent:\n",
    "        print(\"{\")\n",
    "    for key, value in d.items():\n",
    "        if key in keys:\n",
    "            continue\n",
    "        else:\n",
    "            keys.append(key)\n",
    "        \n",
    "        if isinstance(value, list) and len(value) and not isinstance(value[0], dict):\n",
    "            print(f\"{indent}'{key}': '{type(value[0])}',\")\n",
    "        elif isinstance(value, dict):\n",
    "            print(f\"{indent}'{key}': {{\")\n",
    "            compact_print(value, indent + ' ')\n",
    "        else:\n",
    "            print(f\"{indent}'{key}': '{type(value)}',\")\n",
    "    print(indent + \"}\")"
   ]
  },
  {
   "cell_type": "code",
   "execution_count": 34,
   "metadata": {},
   "outputs": [
    {
     "name": "stdout",
     "output_type": "stream",
     "text": [
      "{\n",
      "'workspace': {\n",
      " 'language': '<class 'str'>',\n",
      " 'learning_opt_out': '<class 'bool'>',\n",
      " 'name': '<class 'str'>',\n",
      " 'description': '<class 'str'>',\n",
      " 'bots': '<class 'list'>',\n",
      " 'createdBy': {\n",
      "  'name': '<class 'str'>',\n",
      "  'enrollment': '<class 'str'>',\n",
      "  'id': '<class 'str'>',\n",
      "  'site': '<class 'str'>',\n",
      "  }\n",
      " 'updatedBy': {\n",
      "  'name': '<class 'str'>',\n",
      "  'enrollment': '<class 'str'>',\n",
      "  'id': '<class 'str'>',\n",
      "  'site': '<class 'str'>',\n",
      "  }\n",
      " 'createdAt': '<class 'str'>',\n",
      " 'updatedAt': '<class 'str'>',\n",
      " 'lastErrorMessage': '<class 'str'>',\n",
      " 'publishedAt': '<class 'str'>',\n",
      " 'publishedBy': {\n",
      "  'id': '<class 'NoneType'>',\n",
      "  'name': '<class 'str'>',\n",
      "  'enrollment': '<class 'str'>',\n",
      "  'site': '<class 'NoneType'>',\n",
      "  'status': '<class 'NoneType'>',\n",
      "  }\n",
      " 'dialog_nodes': '<class 'list'>',\n",
      " 'intents': '<class 'list'>',\n",
      " 'entities': '<class 'list'>',\n",
      " 'counterexamples': '<class 'list'>',\n",
      " }\n",
      "'answers': '<class 'list'>',\n",
      "}\n"
     ]
    }
   ],
   "source": [
    "compact_print(sara)"
   ]
  },
  {
   "cell_type": "code",
   "execution_count": 29,
   "metadata": {},
   "outputs": [
    {
     "data": {
      "text/plain": [
       "{'_id': '5fd37c906c68b3003cdaa173',\n",
       " 'answer': '<p><span style=\"font-size: 1rem;\">Você gostaria de <b>e</b></span><b style=\"font-size: 1rem;\">stornar Título de Capitalização</b><span style=\"font-size: 1rem;\"> de Cliente &lt;&lt;PF&gt;&gt; ou &lt;&lt;PJ&gt;&gt;?</span><br></p>',\n",
       " 'defaultAnswer': True,\n",
       " 'createdAt': '2018-06-23T21:59:48.771Z',\n",
       " 'updatedAt': '2018-06-23T21:59:48.771Z',\n",
       " 'createdBy': {'name': 'Erik Andersen Neto',\n",
       "  'enrollment': 'X205450',\n",
       "  'site': ''},\n",
       " 'updatedBy': {'name': 'T710555', 'enrollment': 'T710555', 'site': ''},\n",
       " 'workspace': '5fd37c8e6c68b3003cdaa018',\n",
       " 'workspace_id': 'b0d6a701-fddd-47fe-bcf6-bea56d043ec4',\n",
       " 'dialog_node': 'Capitalizacao_Cancelamento_PFePJ_Estornar_Titulo_true',\n",
       " 'channel': 'default',\n",
       " 'profile': 'default'}"
      ]
     },
     "execution_count": 29,
     "metadata": {},
     "output_type": "execute_result"
    }
   ],
   "source": [
    "sara[\"answers\"][0]"
   ]
  },
  {
   "cell_type": "code",
   "execution_count": 35,
   "metadata": {},
   "outputs": [
    {
     "name": "stdout",
     "output_type": "stream",
     "text": [
      "{\n",
      "'_id': '<class 'str'>',\n",
      "'intent': '<class 'str'>',\n",
      "'description': '<class 'str'>',\n",
      "'createdAt': '<class 'str'>',\n",
      "'createdBy': {\n",
      " 'name': '<class 'str'>',\n",
      " 'enrollment': '<class 'str'>',\n",
      " 'site': '<class 'str'>',\n",
      " }\n",
      "'updatedAt': '<class 'str'>',\n",
      "'updatedBy': {\n",
      " 'id': '<class 'str'>',\n",
      " 'name': '<class 'str'>',\n",
      " 'enrollment': '<class 'str'>',\n",
      " 'site': '<class 'str'>',\n",
      " }\n",
      "'examples': '<class 'list'>',\n",
      "}\n"
     ]
    }
   ],
   "source": [
    "compact_print(sara[\"workspace\"][\"intents\"][0])"
   ]
  },
  {
   "cell_type": "code",
   "execution_count": 43,
   "metadata": {},
   "outputs": [
    {
     "data": {
      "text/plain": [
       "[{'_id': '5fd37c906936f4486bfc577b',\n",
       "  'value': 'Com Bens',\n",
       "  'type': 'synonyms',\n",
       "  'synonyms': ['Com bens',\n",
       "   'Tem bens',\n",
       "   'possui bens',\n",
       "   'deixou bens',\n",
       "   'deixa bens'],\n",
       "  'patterns': [],\n",
       "  'entity': '5fd37c8f6936f4486bfc53a6',\n",
       "  'createdAt': '2020-03-11T17:50:11.094Z',\n",
       "  'updatedAt': '2020-06-28T15:34:19.249Z',\n",
       "  'createdBy': {'name': 'Erik Andersen Neto',\n",
       "   'enrollment': 'X205450',\n",
       "   'site': ''},\n",
       "  'updatedBy': {'name': 'Erik Andersen Neto',\n",
       "   'enrollment': 'X205450',\n",
       "   'site': ''}},\n",
       " {'_id': '5fd37c906936f4486bfc577a',\n",
       "  'value': 'Sem Bens',\n",
       "  'type': 'synonyms',\n",
       "  'synonyms': ['sem bens',\n",
       "   'não possui bens',\n",
       "   'não deixou bens',\n",
       "   'não tem bens',\n",
       "   'não tinha bens',\n",
       "   'não deixa bens'],\n",
       "  'patterns': [],\n",
       "  'entity': '5fd37c8f6936f4486bfc53a6',\n",
       "  'createdAt': '2020-03-11T17:50:11.094Z',\n",
       "  'updatedAt': '2020-06-28T15:34:19.249Z',\n",
       "  'createdBy': {'name': 'Erik Andersen Neto',\n",
       "   'enrollment': 'X205450',\n",
       "   'site': ''},\n",
       "  'updatedBy': {'name': 'Erik Andersen Neto',\n",
       "   'enrollment': 'X205450',\n",
       "   'site': ''}}]"
      ]
     },
     "execution_count": 43,
     "metadata": {},
     "output_type": "execute_result"
    }
   ],
   "source": [
    "sara[\"workspace\"][\"entities\"][0][\"values\"]"
   ]
  },
  {
   "cell_type": "code",
   "execution_count": null,
   "metadata": {},
   "outputs": [],
   "source": []
  }
 ],
 "metadata": {
  "interpreter": {
   "hash": "008c267463c15292dc55b419948870b0ebf27d341f52035dedd092d512f82d68"
  },
  "kernelspec": {
   "display_name": "Python 3.8.12 64-bit ('3.8.12')",
   "language": "python",
   "name": "python3"
  },
  "language_info": {
   "codemirror_mode": {
    "name": "ipython",
    "version": 3
   },
   "file_extension": ".py",
   "mimetype": "text/x-python",
   "name": "python",
   "nbconvert_exporter": "python",
   "pygments_lexer": "ipython3",
   "version": "3.8.12"
  },
  "orig_nbformat": 4
 },
 "nbformat": 4,
 "nbformat_minor": 2
}
