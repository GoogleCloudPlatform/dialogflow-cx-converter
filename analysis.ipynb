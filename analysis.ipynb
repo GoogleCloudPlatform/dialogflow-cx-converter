{
 "cells": [
  {
   "cell_type": "code",
   "execution_count": 1,
   "metadata": {},
   "outputs": [],
   "source": [
    "import json"
   ]
  },
  {
   "cell_type": "code",
   "execution_count": 61,
   "metadata": {},
   "outputs": [],
   "source": [
    "with open(\"SARA_CAPITALIZACAO.json\") as f:\n",
    "    sara = json.loads(f.read())"
   ]
  },
  {
   "cell_type": "code",
   "execution_count": 60,
   "metadata": {},
   "outputs": [],
   "source": [
    "with open(\"example_df.json\") as f:\n",
    "    example_df = json.loads(f.read())"
   ]
  },
  {
   "cell_type": "code",
   "execution_count": 62,
   "metadata": {},
   "outputs": [
    {
     "name": "stdout",
     "output_type": "stream",
     "text": [
      "{\n",
      "'agent': {\n",
      " 'name': '<class 'str'>',\n",
      " 'displayName': '<class 'str'>',\n",
      " 'defaultLanguageCode': '<class 'str'>',\n",
      " 'supportedLanguageCodes': '<class 'str'>',\n",
      " 'timeZone': '<class 'str'>',\n",
      " 'projectNumber': '<class 'int'>',\n",
      " 'speechToTextSettings': {\n",
      "  }\n",
      " 'startFlow': '<class 'str'>',\n",
      " 'enableStackdriverLogging': '<class 'bool'>',\n",
      " 'advancedSettings': {\n",
      "  'audioExportGcsDestination': {\n",
      "   }\n",
      "  'speechSettings': {\n",
      "   'endpointerSensitivity': '<class 'int'>',\n",
      "   'noSpeechTimeout': {\n",
      "    'seconds': '<class 'int'>',\n",
      "    }\n",
      "   }\n",
      "  'playbackInterruptionSettings': {\n",
      "   }\n",
      "  'loggingSettings': {\n",
      "   'enableStackdriverLogging': '<class 'bool'>',\n",
      "   'enableInteractionLogging': '<class 'bool'>',\n",
      "   }\n",
      "  }\n",
      " }\n",
      "'flows': '<class 'list'>',\n",
      "'intents': '<class 'list'>',\n",
      "'entities': '<class 'list'>',\n",
      "'fulfillments': '<class 'list'>',\n",
      "'isAgentSnapshot': '<class 'bool'>',\n",
      "}\n"
     ]
    }
   ],
   "source": [
    "compact_print(example_df)"
   ]
  },
  {
   "cell_type": "code",
   "execution_count": 3,
   "metadata": {},
   "outputs": [
    {
     "data": {
      "text/plain": [
       "dict_keys(['workspace', 'answers'])"
      ]
     },
     "execution_count": 3,
     "metadata": {},
     "output_type": "execute_result"
    }
   ],
   "source": [
    "sara.keys()"
   ]
  },
  {
   "cell_type": "code",
   "execution_count": 10,
   "metadata": {},
   "outputs": [
    {
     "data": {
      "text/plain": [
       "2"
      ]
     },
     "execution_count": 10,
     "metadata": {},
     "output_type": "execute_result"
    }
   ],
   "source": [
    "len(sara.items())"
   ]
  },
  {
   "cell_type": "code",
   "execution_count": 33,
   "metadata": {},
   "outputs": [],
   "source": [
    "def compact_print(d:dict, indent=''):\n",
    "    keys = []\n",
    "    if not indent:\n",
    "        print(\"{\")\n",
    "    for key, value in d.items():\n",
    "        if key in keys:\n",
    "            continue\n",
    "        else:\n",
    "            keys.append(key)\n",
    "        \n",
    "        if isinstance(value, list) and len(value) and not isinstance(value[0], dict):\n",
    "            print(f\"{indent}'{key}': '{type(value[0])}',\")\n",
    "        elif isinstance(value, dict):\n",
    "            print(f\"{indent}'{key}': {{\")\n",
    "            compact_print(value, indent + ' ')\n",
    "        else:\n",
    "            print(f\"{indent}'{key}': '{type(value)}',\")\n",
    "    print(indent + \"}\")"
   ]
  },
  {
   "cell_type": "code",
   "execution_count": 34,
   "metadata": {},
   "outputs": [
    {
     "name": "stdout",
     "output_type": "stream",
     "text": [
      "{\n",
      "'workspace': {\n",
      " 'language': '<class 'str'>',\n",
      " 'learning_opt_out': '<class 'bool'>',\n",
      " 'name': '<class 'str'>',\n",
      " 'description': '<class 'str'>',\n",
      " 'bots': '<class 'list'>',\n",
      " 'createdBy': {\n",
      "  'name': '<class 'str'>',\n",
      "  'enrollment': '<class 'str'>',\n",
      "  'id': '<class 'str'>',\n",
      "  'site': '<class 'str'>',\n",
      "  }\n",
      " 'updatedBy': {\n",
      "  'name': '<class 'str'>',\n",
      "  'enrollment': '<class 'str'>',\n",
      "  'id': '<class 'str'>',\n",
      "  'site': '<class 'str'>',\n",
      "  }\n",
      " 'createdAt': '<class 'str'>',\n",
      " 'updatedAt': '<class 'str'>',\n",
      " 'lastErrorMessage': '<class 'str'>',\n",
      " 'publishedAt': '<class 'str'>',\n",
      " 'publishedBy': {\n",
      "  'id': '<class 'NoneType'>',\n",
      "  'name': '<class 'str'>',\n",
      "  'enrollment': '<class 'str'>',\n",
      "  'site': '<class 'NoneType'>',\n",
      "  'status': '<class 'NoneType'>',\n",
      "  }\n",
      " 'dialog_nodes': '<class 'list'>',\n",
      " 'intents': '<class 'list'>',\n",
      " 'entities': '<class 'list'>',\n",
      " 'counterexamples': '<class 'list'>',\n",
      " }\n",
      "'answers': '<class 'list'>',\n",
      "}\n"
     ]
    }
   ],
   "source": [
    "compact_print(sara)"
   ]
  },
  {
   "cell_type": "code",
   "execution_count": 29,
   "metadata": {},
   "outputs": [
    {
     "data": {
      "text/plain": [
       "{'_id': '5fd37c906c68b3003cdaa173',\n",
       " 'answer': '<p><span style=\"font-size: 1rem;\">Você gostaria de <b>e</b></span><b style=\"font-size: 1rem;\">stornar Título de Capitalização</b><span style=\"font-size: 1rem;\"> de Cliente &lt;&lt;PF&gt;&gt; ou &lt;&lt;PJ&gt;&gt;?</span><br></p>',\n",
       " 'defaultAnswer': True,\n",
       " 'createdAt': '2018-06-23T21:59:48.771Z',\n",
       " 'updatedAt': '2018-06-23T21:59:48.771Z',\n",
       " 'createdBy': {'name': 'Erik Andersen Neto',\n",
       "  'enrollment': 'X205450',\n",
       "  'site': ''},\n",
       " 'updatedBy': {'name': 'T710555', 'enrollment': 'T710555', 'site': ''},\n",
       " 'workspace': '5fd37c8e6c68b3003cdaa018',\n",
       " 'workspace_id': 'b0d6a701-fddd-47fe-bcf6-bea56d043ec4',\n",
       " 'dialog_node': 'Capitalizacao_Cancelamento_PFePJ_Estornar_Titulo_true',\n",
       " 'channel': 'default',\n",
       " 'profile': 'default'}"
      ]
     },
     "execution_count": 29,
     "metadata": {},
     "output_type": "execute_result"
    }
   ],
   "source": [
    "sara[\"answers\"][0]"
   ]
  },
  {
   "cell_type": "code",
   "execution_count": 35,
   "metadata": {},
   "outputs": [
    {
     "name": "stdout",
     "output_type": "stream",
     "text": [
      "{\n",
      "'_id': '<class 'str'>',\n",
      "'intent': '<class 'str'>',\n",
      "'description': '<class 'str'>',\n",
      "'createdAt': '<class 'str'>',\n",
      "'createdBy': {\n",
      " 'name': '<class 'str'>',\n",
      " 'enrollment': '<class 'str'>',\n",
      " 'site': '<class 'str'>',\n",
      " }\n",
      "'updatedAt': '<class 'str'>',\n",
      "'updatedBy': {\n",
      " 'id': '<class 'str'>',\n",
      " 'name': '<class 'str'>',\n",
      " 'enrollment': '<class 'str'>',\n",
      " 'site': '<class 'str'>',\n",
      " }\n",
      "'examples': '<class 'list'>',\n",
      "}\n"
     ]
    }
   ],
   "source": [
    "compact_print(sara[\"workspace\"][\"intents\"][0])"
   ]
  },
  {
   "cell_type": "code",
   "execution_count": 53,
   "metadata": {},
   "outputs": [
    {
     "data": {
      "text/plain": [
       "'8d240f21-1d37-42cc-bba5-d66263066aa2'"
      ]
     },
     "execution_count": 53,
     "metadata": {},
     "output_type": "execute_result"
    }
   ],
   "source": [
    "sara[\"workspace\"][\"dialog_nodes\"][0][\"parent\"]"
   ]
  },
  {
   "cell_type": "code",
   "execution_count": 58,
   "metadata": {},
   "outputs": [
    {
     "data": {
      "text/plain": [
       "{'_id': '5fd37c8f6936f4486bfc547a',\n",
       " 'dialog_node': '8d68e1d2-8fd4-d83f-b619-b97c7b523442',\n",
       " 'subject': '5fd37c8e6c68b3003cdaa018',\n",
       " 'api': None,\n",
       " 'canHaveChildren': None,\n",
       " 'conditions': '$keyword_1 <= 2',\n",
       " 'context': None,\n",
       " 'createdAt': '2020-12-11T14:05:03.247Z',\n",
       " 'createdBy': {'name': 'Erik Andersen Neto',\n",
       "  'enrollment': 'X205450',\n",
       "  'site': ''},\n",
       " 'flowId': None,\n",
       " 'metadata': None,\n",
       " 'next_step': None,\n",
       " 'order': 0,\n",
       " 'output': {'beginConversation': False,\n",
       "  'endConversation': False,\n",
       "  'humanAgent': False,\n",
       "  'notHumanAgent': True,\n",
       "  'endFlow': True,\n",
       "  'text': {'values': ['5fd37c8e6c68b3003cdaa018:5fd37c8f6936f4486bfc547a']}},\n",
       " 'parent': '8d240f21-1d37-42cc-bba5-d66263066aa2',\n",
       " 'previous_sibling': None,\n",
       " 'segments': [],\n",
       " 'title': 'Filtros_Palavras_Chave-1-Resposta1',\n",
       " 'type': 'standard',\n",
       " 'updatedAt': '2021-12-07T20:42:21.201Z',\n",
       " 'updatedBy': {'name': 'T633435', 'enrollment': 'T633435', 'site': ''},\n",
       " 'dialogNodeValidity': '2022-12-07T18:00:20.645Z',\n",
       " 'product': {'_id': '5e961acd585520c03a5728d1',\n",
       "  'description': 'Capitalização',\n",
       "  'createdAt': '2020-04-14T20:19:25.820Z',\n",
       "  'updatedAt': '2021-10-07T20:48:56.391Z'},\n",
       " 'subproduct': {'_id': '5e961acd585520c03a5728e0',\n",
       "  'description': 'Características ',\n",
       "  'product': '5e961acd585520c03a5728d1',\n",
       "  'createdAt': '2020-04-14T20:19:25.833Z',\n",
       "  'updatedAt': '2020-12-11T14:14:25.623Z',\n",
       "  'codeSAH': '323',\n",
       "  'queue': 'Capitalização',\n",
       "  'updatedBy': {'id': '626457',\n",
       "   'name': 'FUNCIONARIO OOOFXFZGJ',\n",
       "   'enrollment': 'T626457',\n",
       "   'site': None,\n",
       "   'status': None}},\n",
       " 'tags': []}"
      ]
     },
     "execution_count": 58,
     "metadata": {},
     "output_type": "execute_result"
    }
   ],
   "source": [
    "sara[\"workspace\"][\"dialog_nodes\"][0]"
   ]
  },
  {
   "cell_type": "code",
   "execution_count": 57,
   "metadata": {},
   "outputs": [
    {
     "data": {
      "text/plain": [
       "'<p><span style=\"font-size: 1rem;\">Você gostaria de <b>e</b></span><b style=\"font-size: 1rem;\">stornar Título de Capitalização</b><span style=\"font-size: 1rem;\"> de Cliente &lt;&lt;PF&gt;&gt; ou &lt;&lt;PJ&gt;&gt;?</span><br></p>'"
      ]
     },
     "execution_count": 57,
     "metadata": {},
     "output_type": "execute_result"
    }
   ],
   "source": [
    "sara[\"answers\"][0][\"answer\"]"
   ]
  },
  {
   "cell_type": "code",
   "execution_count": null,
   "metadata": {},
   "outputs": [],
   "source": []
  }
 ],
 "metadata": {
  "interpreter": {
   "hash": "008c267463c15292dc55b419948870b0ebf27d341f52035dedd092d512f82d68"
  },
  "kernelspec": {
   "display_name": "Python 3.8.12 64-bit ('3.8.12')",
   "language": "python",
   "name": "python3"
  },
  "language_info": {
   "codemirror_mode": {
    "name": "ipython",
    "version": 3
   },
   "file_extension": ".py",
   "mimetype": "text/x-python",
   "name": "python",
   "nbconvert_exporter": "python",
   "pygments_lexer": "ipython3",
   "version": "3.8.12"
  },
  "orig_nbformat": 4
 },
 "nbformat": 4,
 "nbformat_minor": 2
}
